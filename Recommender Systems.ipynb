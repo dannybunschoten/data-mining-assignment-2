{
 "cells": [
  {
   "cell_type": "markdown",
   "id": "da85ea7c",
   "metadata": {},
   "source": [
    "# Recommender Systems - Data Mining Lab 2"
   ]
  },
  {
   "cell_type": "code",
   "execution_count": 2,
   "id": "f5c1d72b",
   "metadata": {},
   "outputs": [],
   "source": [
    "import scipy\n",
    "import numpy as np\n",
    "import pandas as pd\n",
    "import matplotlib.pyplot as plt\n",
    "import sys"
   ]
  },
  {
   "cell_type": "markdown",
   "id": "f6afd09b",
   "metadata": {},
   "source": [
    "### Data loading"
   ]
  },
  {
   "cell_type": "code",
   "execution_count": 3,
   "id": "2fdf70f9",
   "metadata": {},
   "outputs": [],
   "source": [
    "train_file_path = 'data/lab2_train.csv' \n",
    "test_file_path = 'data/lab2_test.csv'\n",
    "\n",
    "train_data = pd.read_csv(train_file_path, delimiter=',')\n",
    "test_data = pd.read_csv(test_file_path, delimiter=',')\n"
   ]
  },
  {
   "cell_type": "code",
   "execution_count": 68,
   "id": "edcf4d32",
   "metadata": {},
   "outputs": [
    {
     "name": "stdout",
     "output_type": "stream",
     "text": [
      "       user_from_id  user_to_id  is_like is_match\n",
      "0              1136        3141    False    False\n",
      "1              2424        3174    False    False\n",
      "2              1300        3590    False    False\n",
      "3               800        2736    False    False\n",
      "4               883         437    False    False\n",
      "...             ...         ...      ...      ...\n",
      "76387          2376        3057    False    False\n",
      "76388          1163         933    False    False\n",
      "76389          2770        3324    False    False\n",
      "76390           879         785    False    False\n",
      "76391           291         470    False    False\n",
      "\n",
      "[76392 rows x 4 columns]\n",
      "       user_from_id  user_to_id  is_like is_match\n",
      "50598            93           2     True    False\n",
      "46348            24           2     True    False\n",
      "11643            88           2     True    False\n",
      "61229            82           2     True    False\n",
      "71280            67           2     True    False\n",
      "...             ...         ...      ...      ...\n",
      "32426          1220        3623     True    False\n",
      "55939          1022        3624     True    False\n",
      "5109            322        3624     True    False\n",
      "14716           236        3624     True      NaN\n",
      "23406          1022        3624     True    False\n",
      "\n",
      "[12637 rows x 4 columns]\n",
      "2107\n",
      "1707\n",
      "345\n",
      "       user_from_id  user_to_id  is_like is_match\n",
      "66321           742          36     True    False\n",
      "75323           728          36     True    False\n",
      "64719           721          36     True    False\n",
      "54886           652          36     True    False\n",
      "71088           723          36     True    False\n",
      "38349           730          36     True    False\n",
      "72063           724          36     True    False\n",
      "59843           471          36     True    False\n",
      "4862            733          36     True    False\n",
      "12158           677          36     True    False\n",
      "8591            731          36     True    False\n",
      "27524           732          36     True    False\n",
      "       user_from_id  user_to_id  is_like is_match\n",
      "53839            36         499     True    False\n",
      "50009            36         577     True    False\n",
      "67510            36        1259     True    False\n",
      "18798            36        1594     True    False\n",
      "39349            36        1648     True    False\n",
      "47210            36        1682     True    False\n",
      "72856            36        1745     True    False\n",
      "27380            36        1901     True    False\n",
      "20742            36        2197     True    False\n",
      "40466            36        2370     True    False\n",
      "70684            36        2422     True    False\n",
      "73033            36        2910     True    False\n",
      "46373            36        2973     True    False\n",
      "28564            36        2998     True    False\n",
      "59738            36        3136     True    False\n",
      "3225             36        3276     True    False\n",
      "73991            36        3335     True     True\n",
      "68856            36        3493     True    False\n",
      "7236             36        3565     True    False\n",
      "       user_from_id  user_to_id  is_like is_match\n",
      "62638             1        3046     True     True\n",
      "40079             4        3058     True     True\n",
      "676              19        2550     True     True\n",
      "73991            36        3335     True     True\n",
      "8940             44         150     True     True\n",
      "...             ...         ...      ...      ...\n",
      "8137           3349        1359     True     True\n",
      "7736           3433        1404     True     True\n",
      "18122          3437        2835     True     True\n",
      "51665          3689        3366     True     True\n",
      "64059          3707        3444     True     True\n",
      "\n",
      "[415 rows x 4 columns]\n"
     ]
    }
   ],
   "source": [
    "print(train_data)\n",
    "print(like_train_data)\n",
    "like_train_data = train_data[train_data.is_like == True]\n",
    "like_train_data = like_train_data.sort_values(\"user_to_id\")\n",
    "match_train_data = train_data[train_data.is_match ==True]\n",
    "match_train_data = match_train_data.sort_values(\"user_from_id\")\n",
    "\n",
    "liked_user_count = like_train_data[\"user_to_id\"].nunique()\n",
    "user_count = like_train_data[\"user_from_id\"].nunique()\n",
    "match_count = match_train_data[\"user_from_id\"].nunique()\n",
    "\n",
    "print(user_count)\n",
    "print(liked_user_count)\n",
    "print(match_count)\n",
    "\n",
    "print(like_train_data[like_train_data.user_to_id == 36])\n",
    "print(like_train_data[like_train_data.user_from_id == 36])\n",
    "\n",
    "\n",
    "#print(like_train_data)\n",
    "\n",
    "print(match_train_data)"
   ]
  },
  {
   "cell_type": "markdown",
   "id": "8448a542",
   "metadata": {},
   "source": [
    "## Familiarization\n",
    "### Important properties of the data\n",
    "There are only 1707 user who have one like or more of the 2107 users who gave likes. Of all of these users there are only 415 matches. Of these matches there are 345 unique users who receive a match. So there is only a small group of users who receive more than one match. And a small number of matches on the total of 76392 likes and dislikes.\n",
    "\n",
    "The Data is therefore very sparse. Of these 76392 likes and dislikes there are only 12637 likes. This is 16,5% likes. Of these likes there are only 415 matches. Thus only 3,3% mutual likes. This is sparse data to work with.   \n",
    "\n",
    "### Types of people\n",
    "\n",
    "- Someone who receives a lot of likes but likes almost no one. User 2 receives 45 likes but likes none of them. Therefore not leading to a match\n",
    "\n",
    "- Someone who receives and gives about only dislikes. For example user 28 is very active on the platform but gives about only dislikes and receives only dislikes. Therefore not leading to a match\n",
    "\n",
    "- Someone who gives a lot of likes and receives only dislikes. For example user 18 gives 26 likes and receives no likes back and has thus not a match.\n",
    "\n",
    "- Someone who receives a lot of likes and gives a lot of likes. For example user 36 gives a lot of likes and receives a lot of likes and eventualy leading to a match."
   ]
  },
  {
   "cell_type": "code",
   "execution_count": null,
   "id": "f85cb424",
   "metadata": {},
   "outputs": [],
   "source": []
  }
 ],
 "metadata": {
  "kernelspec": {
   "display_name": "Python 3",
   "language": "python",
   "name": "python3"
  },
  "language_info": {
   "codemirror_mode": {
    "name": "ipython",
    "version": 3
   },
   "file_extension": ".py",
   "mimetype": "text/x-python",
   "name": "python",
   "nbconvert_exporter": "python",
   "pygments_lexer": "ipython3",
   "version": "3.8.8"
  }
 },
 "nbformat": 4,
 "nbformat_minor": 5
}
