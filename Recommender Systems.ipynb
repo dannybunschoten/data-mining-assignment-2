{
 "cells": [
  {
   "cell_type": "markdown",
   "id": "f24d3878",
   "metadata": {},
   "source": [
    "# Recommender Systems - Data Mining Lab 2"
   ]
  },
  {
   "cell_type": "code",
   "execution_count": null,
   "id": "f56f8f1e",
   "metadata": {},
   "outputs": [],
   "source": [
    "import scipy\n",
    "import numpy as np\n",
    "import pandas as pd\n",
    "import matplotlib.pyplot as plt\n",
    "import sys"
   ]
  },
  {
   "cell_type": "markdown",
   "id": "bebb35d5",
   "metadata": {},
   "source": [
    "### Data loading"
   ]
  },
  {
   "cell_type": "code",
   "execution_count": null,
   "id": "f0c58164",
   "metadata": {},
   "outputs": [],
   "source": [
    "train_file_path = 'data/lab2_train.csv' \n",
    "test_file_path = 'data/lab2_test.csv'\n",
    "\n",
    "train_data = pd.read_csv(train_file_path, delimiter=',')\n",
    "test_data = pd.read_csv(test_file_path, delimiter=',')\n"
   ]
  },
  {
   "cell_type": "code",
   "execution_count": null,
   "id": "bac05751",
   "metadata": {},
   "outputs": [],
   "source": [
    "#print(train_data)\n",
    "#print(like_train_data)\n",
    "like_train_data = train_data[train_data.is_like == True]\n",
    "like_train_data = like_train_data.sort_values(\"user_to_id\")\n",
    "match_train_data = train_data[train_data.is_match ==True]\n",
    "match_train_data = match_train_data.sort_values(\"user_from_id\")\n",
    "\n",
    "liked_user_count = like_train_data[\"user_to_id\"].nunique()\n",
    "user_count = like_train_data[\"user_from_id\"].nunique()\n",
    "match_count = match_train_data[\"user_from_id\"].nunique()\n",
    "\n",
    "\n",
    "number_of_likes = like_train_data[\"user_to_id\"]\n",
    "counts = number_of_likes.value_counts()\n",
    "plt.figure(figsize=(15, 8))\n",
    "plt.bar(counts.index, counts.values, color='blue')\n",
    "\n",
    "plt.xlabel('User IDs')\n",
    "plt.ylabel('Number of Likes')\n",
    "plt.title('Distribution of Number of Likes per User ID')\n",
    "plt.xticks([])  # Hides x axis labels due to the large number of ids\n",
    "plt.show()\n",
    "\n",
    "#print(user_count)\n",
    "#print(liked_user_count)\n",
    "#print(match_count)\n",
    "\n",
    "#print(like_train_data[like_train_data.user_to_id == 36])\n",
    "#print(like_train_data[like_train_data.user_from_id == 36])\n",
    "\n",
    "\n",
    "#print(like_train_data)\n",
    "\n",
    "#print(match_train_data)"
   ]
  },
  {
   "cell_type": "markdown",
   "id": "2235d2e8",
   "metadata": {},
   "source": [
    "## Familiarization\n",
    "### Important properties of the data\n",
    "There are only 1707 user who have one like or more of the 2107 users who gave likes. Of all of these users there are only 415 matches. Of these matches there are 345 unique users who receive a match. So there is only a small group of users who receive more than one match. And a small number of matches on the total of 76392 likes and dislikes.\n",
    "\n",
    "The Data is therefore very sparse. Of these 76392 likes and dislikes there are only 12637 likes. This is 16,5% likes. Of these likes there are only 415 matches. Thus only 3,3% mutual likes. This is sparse data to work with.   \n",
    "\n",
    "### Types of people\n",
    "\n",
    "- Someone who receives a lot of likes but likes almost no one. User 2 receives 45 likes but likes none of them. Therefore not leading to a match\n",
    "\n",
    "- Someone who receives and gives about only dislikes. For example user 28 is very active on the platform but gives about only dislikes and receives only dislikes. Therefore not leading to a match\n",
    "\n",
    "- Someone who gives a lot of likes and receives only dislikes. For example user 18 gives 26 likes and receives no likes back and has thus not a match.\n",
    "\n",
    "- Someone who receives a lot of likes and gives a lot of likes. For example user 36 gives a lot of likes and receives a lot of likes and eventualy leading to a match."
   ]
  },
  {
   "cell_type": "markdown",
   "id": "ece31938",
   "metadata": {},
   "source": [
    "## Non-negative matrix factorization"
   ]
  },
  {
   "cell_type": "code",
   "execution_count": null,
   "id": "f188f598",
   "metadata": {},
   "outputs": [],
   "source": []
  },
  {
   "cell_type": "markdown",
   "id": "c7d73c59",
   "metadata": {},
   "source": [
    "## Distance-based pipeline"
   ]
  },
  {
   "cell_type": "code",
   "execution_count": null,
   "id": "8c31f419",
   "metadata": {},
   "outputs": [],
   "source": []
  },
  {
   "cell_type": "markdown",
   "id": "1ab55503",
   "metadata": {},
   "source": [
    "## Report on code"
   ]
  },
  {
   "cell_type": "code",
   "execution_count": null,
   "id": "16ad1675",
   "metadata": {},
   "outputs": [],
   "source": []
  }
 ],
 "metadata": {
  "kernelspec": {
   "display_name": "Python 3",
   "language": "python",
   "name": "python3"
  },
  "language_info": {
   "codemirror_mode": {
    "name": "ipython",
    "version": 3
   },
   "file_extension": ".py",
   "mimetype": "text/x-python",
   "name": "python",
   "nbconvert_exporter": "python",
   "pygments_lexer": "ipython3",
   "version": "3.8.8"
  }
 },
 "nbformat": 4,
 "nbformat_minor": 5
}
