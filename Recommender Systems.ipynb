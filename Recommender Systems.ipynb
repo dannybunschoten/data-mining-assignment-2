{
 "cells": [
  {
   "cell_type": "markdown",
   "id": "50e3b59a",
   "metadata": {},
   "source": [
    "# Recommender Systems - Data Mining Lab 2"
   ]
  },
  {
   "cell_type": "code",
   "execution_count": 2,
   "id": "226a611f",
   "metadata": {},
   "outputs": [],
   "source": [
    "import scipy\n",
    "import numpy as np\n",
    "import pandas as pd\n",
    "import matplotlib.pyplot as plt\n",
    "import sys"
   ]
  },
  {
   "cell_type": "markdown",
   "id": "b407058b",
   "metadata": {},
   "source": [
    "### Data loading"
   ]
  },
  {
   "cell_type": "code",
   "execution_count": 3,
   "id": "ea8fe314",
   "metadata": {},
   "outputs": [],
   "source": [
    "train_file_path = 'data/lab2_train.csv' \n",
    "test_file_path = 'data/lab2_test.csv'\n",
    "\n",
    "train_data = pd.read_csv(train_file_path, delimiter=',')\n",
    "test_data = pd.read_csv(test_file_path, delimiter=',')\n"
   ]
  },
  {
   "cell_type": "code",
   "execution_count": 62,
   "id": "2186a9fb",
   "metadata": {},
   "outputs": [
    {
     "name": "stdout",
     "output_type": "stream",
     "text": [
      "2107\n",
      "1707\n",
      "345\n",
      "       user_from_id  user_to_id  is_like is_match\n",
      "17270          1365        3349    False    False\n",
      "41169          1918        3349    False    False\n",
      "47470           804        3349    False    False\n",
      "48542          1308        3349    False    False\n",
      "50527          1000        3349    False    False\n",
      "53983          1331        3349    False    False\n",
      "55999          1001        3349    False    False\n",
      "57098           779        3349    False    False\n",
      "67910          1649        3349    False    False\n",
      "74585          2001        3349    False    False\n",
      "76220           995        3349    False    False\n",
      "      user_from_id  user_to_id  is_like is_match\n",
      "8137          3349        1359     True     True\n",
      "       user_from_id  user_to_id  is_like is_match\n",
      "62638             1        3046     True     True\n",
      "40079             4        3058     True     True\n",
      "676              19        2550     True     True\n",
      "73991            36        3335     True     True\n",
      "8940             44         150     True     True\n",
      "...             ...         ...      ...      ...\n",
      "8137           3349        1359     True     True\n",
      "7736           3433        1404     True     True\n",
      "18122          3437        2835     True     True\n",
      "51665          3689        3366     True     True\n",
      "64059          3707        3444     True     True\n",
      "\n",
      "[415 rows x 4 columns]\n"
     ]
    }
   ],
   "source": [
    "#print(train_data)\n",
    "like_train_data = train_data[train_data.is_like == True]\n",
    "like_train_data = like_train_data.sort_values(\"user_to_id\")\n",
    "match_train_data = train_data[train_data.is_match ==True]\n",
    "match_train_data = match_train_data.sort_values(\"user_from_id\")\n",
    "\n",
    "liked_user_count = like_train_data[\"user_to_id\"].nunique()\n",
    "user_count = like_train_data[\"user_from_id\"].nunique()\n",
    "match_count = match_train_data[\"user_from_id\"].nunique()\n",
    "\n",
    "print(user_count)\n",
    "print(liked_user_count)\n",
    "print(match_count)\n",
    "\n",
    "print(train_data[train_data.user_to_id == 3349])\n",
    "print(train_data[train_data.user_from_id == 3349])\n",
    "\n",
    "\n",
    "#print(like_train_data)\n",
    "\n",
    "print(match_train_data)"
   ]
  },
  {
   "cell_type": "markdown",
   "id": "6e9589a9",
   "metadata": {},
   "source": [
    "## Familiarization\n",
    "### Important properties of the data\n",
    "\n",
    "### Types of people\n",
    "There are only 1707 user who have one like or more of the 2107 users who gave likes. Of all of these users there are only 415 matches. Of these matches there are 345 unique users who receive a match. So there is only a small group of users who receive more than one match.\n",
    "\n",
    "- Someone who receives a lot of likes but likes almost no one. User 2 receives 45 likes but likes none of them. Therefore not leading to a match\n",
    "\n",
    "- Someone who receives and gives about only dislikes. For example user 28 is very active on the platform but gives about only dislikes and receives only dislikes. Therefore not leading to a match\n",
    "\n",
    "- Someone who gives a lot of likes and receives only dislikes. For example user 18 gives 26 likes and receives no likes back and has thus not a match.\n",
    "\n"
   ]
  },
  {
   "cell_type": "code",
   "execution_count": null,
   "id": "ca48f662",
   "metadata": {},
   "outputs": [],
   "source": []
  }
 ],
 "metadata": {
  "kernelspec": {
   "display_name": "Python 3",
   "language": "python",
   "name": "python3"
  },
  "language_info": {
   "codemirror_mode": {
    "name": "ipython",
    "version": 3
   },
   "file_extension": ".py",
   "mimetype": "text/x-python",
   "name": "python",
   "nbconvert_exporter": "python",
   "pygments_lexer": "ipython3",
   "version": "3.8.8"
  }
 },
 "nbformat": 4,
 "nbformat_minor": 5
}
