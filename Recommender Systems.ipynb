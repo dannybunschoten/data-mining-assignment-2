{
 "cells": [
  {
   "cell_type": "markdown",
   "id": "3218ee7b",
   "metadata": {},
   "source": [
    "# Recommender Systems - Data Mining Lab 2"
   ]
  },
  {
   "cell_type": "code",
   "execution_count": 2,
   "id": "1015650f",
   "metadata": {},
   "outputs": [],
   "source": [
    "import scipy\n",
    "import numpy as np\n",
    "import pandas as pd\n",
    "import matplotlib.pyplot as plt\n",
    "import sys"
   ]
  },
  {
   "cell_type": "markdown",
   "id": "cddaf39b",
   "metadata": {},
   "source": [
    "### Data loading"
   ]
  },
  {
   "cell_type": "code",
   "execution_count": 3,
   "id": "da777601",
   "metadata": {},
   "outputs": [],
   "source": [
    "train_file_path = 'data/lab2_train.csv' \n",
    "test_file_path = 'data/lab2_test.csv'\n",
    "\n",
    "train_data = pd.read_csv(train_file_path, delimiter=',')\n",
    "test_data = pd.read_csv(test_file_path, delimiter=',')\n"
   ]
  },
  {
   "cell_type": "code",
   "execution_count": 45,
   "id": "e06e54fe",
   "metadata": {},
   "outputs": [
    {
     "name": "stdout",
     "output_type": "stream",
     "text": [
      "2107\n",
      "1707\n",
      "345\n",
      "       user_from_id  user_to_id  is_like is_match\n",
      "50598            93           2     True    False\n",
      "46348            24           2     True    False\n",
      "11643            88           2     True    False\n",
      "61229            82           2     True    False\n",
      "71280            67           2     True    False\n",
      "11344            74           2     True    False\n",
      "1648             16           2     True    False\n",
      "50638            90           2     True    False\n",
      "27371            47           2     True    False\n",
      "25066            41           2     True    False\n",
      "62824            25           2     True    False\n",
      "25395            39           2     True    False\n",
      "51239            62           2     True    False\n",
      "51374            77           2     True    False\n",
      "26994            64           2     True    False\n",
      "56399            19           2     True    False\n",
      "52013            66           2     True    False\n",
      "7813             20           2     True    False\n",
      "55281            27           2     True    False\n",
      "53111            56           2     True    False\n",
      "55168            92           2     True    False\n",
      "1831             23           2     True    False\n",
      "54402            42           2     True      NaN\n",
      "62956           103           2     True    False\n",
      "30880            69           2     True    False\n",
      "70094            97           2     True    False\n",
      "37278            44           2     True    False\n",
      "16189            31           2     True    False\n",
      "33982            22           2     True    False\n",
      "76370            63           2     True    False\n",
      "21793            89           2     True    False\n",
      "67302            87           2     True    False\n",
      "66846            37           2     True    False\n",
      "45067            57           2     True    False\n",
      "32343            53           2     True    False\n",
      "39966            61           2     True    False\n",
      "41983            98           2     True    False\n",
      "42062            80           2     True    False\n",
      "76109            21           2     True    False\n",
      "23252            18           2     True    False\n",
      "64465            14           2     True    False\n",
      "13204            54           2     True    False\n",
      "44360            45           2     True    False\n",
      "63622            78           2     True    False\n",
      "41238            81           2     True    False\n",
      "       user_from_id  user_to_id  is_like is_match\n",
      "5238              2           0    False    False\n",
      "68362             2        3058     True    False\n",
      "       user_from_id  user_to_id  is_like is_match\n",
      "62638             1        3046     True     True\n",
      "40079             4        3058     True     True\n",
      "676              19        2550     True     True\n",
      "73991            36        3335     True     True\n",
      "8940             44         150     True     True\n",
      "...             ...         ...      ...      ...\n",
      "8137           3349        1359     True     True\n",
      "7736           3433        1404     True     True\n",
      "18122          3437        2835     True     True\n",
      "51665          3689        3366     True     True\n",
      "64059          3707        3444     True     True\n",
      "\n",
      "[415 rows x 4 columns]\n"
     ]
    }
   ],
   "source": [
    "#print(train_data)\n",
    "like_train_data = train_data[train_data.is_like == True]\n",
    "like_train_data = like_train_data.sort_values(\"user_to_id\")\n",
    "match_train_data = train_data[train_data.is_match ==True]\n",
    "match_train_data = match_train_data.sort_values(\"user_from_id\")\n",
    "\n",
    "liked_user_count = like_train_data[\"user_to_id\"].nunique()\n",
    "user_count = like_train_data[\"user_from_id\"].nunique()\n",
    "match_count = match_train_data[\"user_from_id\"].nunique()\n",
    "\n",
    "print(user_count)\n",
    "print(liked_user_count)\n",
    "print(match_count)\n",
    "# User 2 receives a lot of likes but doesn't like\n",
    "print(like_train_data[lik])\n",
    "#print(like_train_data[like_train_data.user_to_id == 2])\n",
    "#print(train_data[train_data.user_from_id == 2])\n",
    "\n",
    "\n",
    "#print(like_train_data)\n",
    "\n",
    "#print(match_train_data)"
   ]
  },
  {
   "cell_type": "markdown",
   "id": "9879daeb",
   "metadata": {},
   "source": [
    "## Familiarization\n",
    "### Important properties of the data\n",
    "\n",
    "### Types of people\n",
    "There are only 1707 user who have one like or more of the 2107 users who gave likes. Of all of these users there are only 415 matches. Of these matches there are 345 unique users who receive a match. So there is only a small group of users who receive more than one match.\n",
    "\n",
    "- Someone who receives a lot of likes but likes almost no one. User 2 receives 45 likes but likes none of them. Therefore not leading to a match\n",
    "\n",
    "- Someone who receives about equal number of likes as he gives. User "
   ]
  },
  {
   "cell_type": "code",
   "execution_count": null,
   "id": "638591e1",
   "metadata": {},
   "outputs": [],
   "source": []
  }
 ],
 "metadata": {
  "kernelspec": {
   "display_name": "Python 3",
   "language": "python",
   "name": "python3"
  },
  "language_info": {
   "codemirror_mode": {
    "name": "ipython",
    "version": 3
   },
   "file_extension": ".py",
   "mimetype": "text/x-python",
   "name": "python",
   "nbconvert_exporter": "python",
   "pygments_lexer": "ipython3",
   "version": "3.8.8"
  }
 },
 "nbformat": 4,
 "nbformat_minor": 5
}
