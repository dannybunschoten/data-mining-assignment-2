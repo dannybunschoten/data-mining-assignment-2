{
 "cells": [
  {
   "cell_type": "markdown",
   "id": "65f44730",
   "metadata": {},
   "source": [
    "# Recommender Systems - Data Mining Lab 2"
   ]
  },
  {
   "cell_type": "code",
   "execution_count": 2,
   "id": "f0c8bb4b",
   "metadata": {},
   "outputs": [],
   "source": [
    "import scipy\n",
    "import numpy as np\n",
    "import pandas as pd\n",
    "import matplotlib.pyplot as plt\n",
    "import sys"
   ]
  },
  {
   "cell_type": "markdown",
   "id": "12696ea0",
   "metadata": {},
   "source": [
    "### Data loading"
   ]
  },
  {
   "cell_type": "code",
   "execution_count": 3,
   "id": "8a967882",
   "metadata": {},
   "outputs": [],
   "source": [
    "train_file_path = 'data/lab2_train.csv' \n",
    "test_file_path = 'data/lab2_test.csv'\n",
    "\n",
    "train_data = pd.read_csv(train_file_path, delimiter=',')\n",
    "test_data = pd.read_csv(test_file_path, delimiter=',')\n"
   ]
  },
  {
   "cell_type": "code",
   "execution_count": 26,
   "id": "dc672953",
   "metadata": {},
   "outputs": [
    {
     "name": "stdout",
     "output_type": "stream",
     "text": [
      "2107\n",
      "1707\n",
      "       user_from_id  user_to_id  is_like is_match\n",
      "50598            93           2     True    False\n",
      "46348            24           2     True    False\n",
      "11643            88           2     True    False\n",
      "61229            82           2     True    False\n",
      "71280            67           2     True    False\n",
      "...             ...         ...      ...      ...\n",
      "32426          1220        3623     True    False\n",
      "55939          1022        3624     True    False\n",
      "5109            322        3624     True    False\n",
      "14716           236        3624     True      NaN\n",
      "23406          1022        3624     True    False\n",
      "\n",
      "[12637 rows x 4 columns]\n",
      "       user_from_id  user_to_id  is_like is_match\n",
      "62638             1        3046     True     True\n",
      "40079             4        3058     True     True\n",
      "676              19        2550     True     True\n",
      "73991            36        3335     True     True\n",
      "8940             44         150     True     True\n",
      "...             ...         ...      ...      ...\n",
      "8137           3349        1359     True     True\n",
      "7736           3433        1404     True     True\n",
      "18122          3437        2835     True     True\n",
      "51665          3689        3366     True     True\n",
      "64059          3707        3444     True     True\n",
      "\n",
      "[415 rows x 4 columns]\n"
     ]
    }
   ],
   "source": [
    "#print(train_data)\n",
    "like_train_data = train_data[train_data.is_like == True]\n",
    "like_train_data = like_train_data.sort_values(\"user_to_id\")\n",
    "liked_user_count = like_train_data[\"user_to_id\"].nunique()\n",
    "user_count = like_train_data[\"user_from_id\"].nunique()\n",
    "print(user_count)\n",
    "print(liked_user_count)\n",
    "print(like_train_data)\n",
    "match_train_data = train_data[train_data.is_match ==True]\n",
    "match_train_data = match_train_data.sort_values(\"user_from_id\")\n",
    "print(match_train_data)"
   ]
  },
  {
   "cell_type": "markdown",
   "id": "954f1fbb",
   "metadata": {},
   "source": [
    "## Familiarization\n",
    "### Important properties of the data\n",
    "\n",
    "### Types of people\n",
    "There are only 1707 user who have one like or more of the 2107 users who gave likes. Of all of these users there are only 415 matches."
   ]
  },
  {
   "cell_type": "code",
   "execution_count": null,
   "id": "236dd297",
   "metadata": {},
   "outputs": [],
   "source": []
  }
 ],
 "metadata": {
  "kernelspec": {
   "display_name": "Python 3",
   "language": "python",
   "name": "python3"
  },
  "language_info": {
   "codemirror_mode": {
    "name": "ipython",
    "version": 3
   },
   "file_extension": ".py",
   "mimetype": "text/x-python",
   "name": "python",
   "nbconvert_exporter": "python",
   "pygments_lexer": "ipython3",
   "version": "3.8.8"
  }
 },
 "nbformat": 4,
 "nbformat_minor": 5
}
