{
 "cells": [
  {
   "cell_type": "markdown",
   "id": "f24d3878",
   "metadata": {},
   "source": [
    "# Recommender Systems - Data Mining Lab 2"
   ]
  },
  {
   "cell_type": "code",
   "execution_count": null,
   "id": "f56f8f1e",
   "metadata": {},
   "outputs": [],
   "source": [
    "import scipy\n",
    "import numpy as np\n",
    "import pandas as pd\n",
    "import matplotlib.pyplot as plt\n",
    "import sys"
   ]
  },
  {
   "cell_type": "markdown",
   "id": "bebb35d5",
   "metadata": {},
   "source": [
    "### Data loading"
   ]
  },
  {
   "cell_type": "code",
   "execution_count": null,
   "id": "f0c58164",
   "metadata": {},
   "outputs": [],
   "source": [
    "train_file_path = 'data/lab2_train.csv' \n",
    "test_file_path = 'data/lab2_test.csv'\n",
    "\n",
    "train_data = pd.read_csv(train_file_path, delimiter=',')\n",
    "test_data = pd.read_csv(test_file_path, delimiter=',')\n"
   ]
  },
  {
   "cell_type": "code",
   "execution_count": 104,
   "id": "bac05751",
   "metadata": {},
   "outputs": [
    {
     "name": "stdout",
     "output_type": "stream",
     "text": [
      "       user_from_id  user_to_id  is_like is_match\n",
      "0              1136        3141    False    False\n",
      "1              2424        3174    False    False\n",
      "2              1300        3590    False    False\n",
      "3               800        2736    False    False\n",
      "4               883         437    False    False\n",
      "...             ...         ...      ...      ...\n",
      "76387          2376        3057    False    False\n",
      "76388          1163         933    False    False\n",
      "76389          2770        3324    False    False\n",
      "76390           879         785    False    False\n",
      "76391           291         470    False    False\n",
      "\n",
      "[76392 rows x 4 columns]\n"
     ]
    },
    {
     "data": {
      "image/png": "[encoded data removed]",
      "text/plain": [
       "<Figure size 1080x576 with 1 Axes>"
      ]
     },
     "metadata": {
      "needs_background": "light"
     },
     "output_type": "display_data"
    },
    {
     "data": {
      "image/png": "[encoded data removed]",
      "text/plain": [
       "<Figure size 1080x576 with 1 Axes>"
      ]
     },
     "metadata": {
      "needs_background": "light"
     },
     "output_type": "display_data"
    }
   ],
   "source": [
    "print(train_data)\n",
    "#print(like_train_data)\n",
    "like_train_data = train_data[train_data.is_like == True]\n",
    "like_train_data = like_train_data.sort_values(\"user_to_id\")\n",
    "match_train_data = train_data[train_data.is_match ==True]\n",
    "match_train_data = match_train_data.sort_values(\"user_from_id\")\n",
    "\n",
    "liked_user_count = like_train_data[\"user_to_id\"].nunique()\n",
    "user_count = like_train_data[\"user_from_id\"].nunique()\n",
    "match_count = match_train_data[\"user_from_id\"].nunique()\n",
    "\n",
    "number_given_likes = like_train_data[\"user_from_id\"]\n",
    "given_counts = number_given_likes.value_counts()\n",
    "\n",
    "\n",
    "plt.figure(figsize=(15, 8))\n",
    "plt.bar(given_counts.index, given_counts.values, color='blue')\n",
    "\n",
    "plt.xlabel('User IDs')\n",
    "plt.ylabel('Number of given Likes')\n",
    "plt.title('Distribution of Number of given Likes per User ID')\n",
    "plt.xticks([])  # Hides x axis labels due to the large number of ids\n",
    "plt.show()\n",
    "\n",
    "number_of_likes = like_train_data[\"user_to_id\"]\n",
    "counts = number_of_likes.value_counts()\n",
    "\n",
    "plt.figure(figsize=(15, 8))\n",
    "plt.bar(counts.index, counts.values, color='blue')\n",
    "\n",
    "plt.xlabel('User IDs')\n",
    "plt.ylabel('Number of received Likes')\n",
    "plt.title('Distribution of Number of received Likes per User ID')\n",
    "plt.xticks([])  # Hides x axis labels due to the large number of ids\n",
    "plt.show()\n",
    "\n",
    "#print(user_count)\n",
    "#print(liked_user_count)\n",
    "#print(match_count)\n",
    "\n",
    "print(like_train_data[like_train_data.user_to_id == 9])\n",
    "#print(like_train_data[like_train_data.user_from_id == 36])\n",
    "\n",
    "\n",
    "#print(like_train_data)\n",
    "\n",
    "#print(match_train_data)"
   ]
  },
  {
   "cell_type": "markdown",
   "id": "2235d2e8",
   "metadata": {},
   "source": [
    "## Familiarization\n",
    "### Important properties of the data\n",
    "There are only 1707 user who have one like or more of the 2107 users who gave likes. Of all of these users there are only 415 matches. Of these matches there are 345 unique users who receive a match. So there is only a small group of users who receive more than one match. And a small number of matches on the total of 76392 likes and dislikes.\n",
    "\n",
    "The Data is therefore very sparse. Of these 76392 likes and dislikes there are only 12637 likes. This is 16,5% likes. Of these likes there are only 415 matches. Thus only 3,3% mutual likes. This is sparse data to work with. You see in the visualization that there is some correlation between the number of received likes and the number of given likes. So the more active a person also the more likes a person will eventually receive.   \n",
    "\n",
    "### Types of people\n",
    "\n",
    "- Someone who receives a lot of likes but likes almost no one. User 2 receives 45 likes but likes none of them. Therefore not leading to a match\n",
    "\n",
    "- Someone who receives and gives about only dislikes. For example user 28 is very active on the platform but gives about only dislikes and receives only dislikes. Therefore not leading to a match\n",
    "\n",
    "- Someone who gives a lot of likes and receives only dislikes. For example user 18 gives 26 likes and receives no likes back and has thus not a match.\n",
    "\n",
    "- Someone who receives a lot of likes and gives a lot of likes. For example user 36 gives a lot of likes and receives a lot of likes and eventualy leading to a match."
   ]
  },
  {
   "cell_type": "markdown",
   "id": "ece31938",
   "metadata": {},
   "source": [
    "## Non-negative matrix factorization"
   ]
  },
  {
   "cell_type": "code",
   "execution_count": 101,
   "id": "f188f598",
   "metadata": {},
   "outputs": [],
   "source": [
    "import numpy as np\n",
    "import pandas as pd\n",
    "\n",
    "\n",
    "def nmf(X: pd.DataFrame, n_components: int, max_iter: int=1000, tol: float=1e-3):\n",
    "  \"\"\"\n",
    "  Decomposes the original sparse matrix X into two matrices W and H. \n",
    "  \"\"\"\n",
    "  # Initialize W and H with random non-negative values\n",
    "  W = np.random.rand(X.shape[0], n_components)\n",
    "  H = np.random.rand(n_components, X.shape[1])\n",
    "\n",
    "\n",
    "  E = np.linalg.norm(X - (W @ H), ord='fro')\n",
    "  newE = 0.\n",
    "  i = 0\n",
    "\n",
    "  while E - newE > tol and i < max_iter:\n",
    "    E = np.linalg.norm(X - (W @ H), ord='fro')\n",
    "\n",
    "    denominatorH = (W.T @ W @ H)\n",
    "    denominatorH[denominatorH == 0] = 1e-9\n",
    "    H = np.divide(np.multiply(H, W.T @ X), denominatorH)\n",
    "\n",
    "    denominatorW = (W @ H @ H.T)\n",
    "    denominatorW[denominatorW == 0] = 1e-9\n",
    "    W = np.divide(np.multiply(W, X @ H.T), denominatorW)\n",
    "\n",
    "    newE = np.linalg.norm(X - (W @ H), ord='fro')\n",
    "    i += 1\n",
    "\n",
    "\n",
    "  return W, H"
   ]
  },
  {
   "cell_type": "markdown",
   "id": "c7d73c59",
   "metadata": {},
   "source": [
    "# Distance-based pipeline"
   ]
  },
  {
   "cell_type": "code",
   "execution_count": 146,
   "id": "8c31f419",
   "metadata": {},
   "outputs": [
    {
     "name": "stdout",
     "output_type": "stream",
     "text": [
      "Nearest Neighbors: [(5, 0.25), (22, 0.25), (27, 0.25), (59, 0.25), (100, 0.25)]\n"
     ]
    }
   ],
   "source": [
    "from scipy.sparse import csr_matrix\n",
    "# pre-processing the training data\n",
    "def create_binary_matrix(train_data):\n",
    "    user_from_ids = train_data['user_from_id'].unique()\n",
    "    user_to_ids = train_data['user_to_id'].unique()\n",
    "    matrix = np.zeros((len(user_from_ids), len(user_to_ids)), dtype=int)\n",
    "\n",
    "    for _, row in train_data.iterrows():\n",
    "        user_from_index = np.where(user_from_ids == row['user_from_id'])[0][0]\n",
    "        user_to_index = np.where(user_to_ids == row['user_to_id'])[0][0]\n",
    "        # Assigning weights: 2 for match, 1 for like\n",
    "        matrix[user_from_index, user_to_index] = 2 if row['is_match'] else (1 if row['is_like'] else 0)\n",
    "\n",
    "\n",
    "    return csr_matrix(matrix), user_from_ids, user_to_ids\n",
    "\n",
    "matrix, user_from_ids, user_to_ids = create_binary_matrix(train_data)\n",
    "\n",
    "# Using the Min Hash function to get the signatures using random hash values\n",
    "def min_hash(matrix, num_hash_functions=4):\n",
    "    num_rows, num_cols = matrix.shape\n",
    "    signatures = np.full((num_hash_functions, num_cols), np.inf)\n",
    "\n",
    "    for r in range(num_rows):\n",
    "        hash_values = np.random.permutation(num_rows)[:num_hash_functions]\n",
    "        for c in matrix[r].nonzero()[1]:\n",
    "            signatures[:, c] = np.minimum(signatures[:, c], hash_values)\n",
    "\n",
    "    return signatures\n",
    "\n",
    "signatures = min_hash(matrix)\n",
    "\n",
    "# Finding the similarity in signatures using Jaccard distance\n",
    "def jaccard_similarity(sig_col1, sig_col2):\n",
    "    return np.sum(sig_col1 == sig_col2) / len(sig_col1)\n",
    "\n",
    "# Find nearest neighbors for a user_id\n",
    "def nearest_neighbors(signatures, target_col, k=5):\n",
    "    similarities = []\n",
    "    for i in range(signatures.shape[1]):\n",
    "        if i != target_col:\n",
    "            similarity = jaccard_similarity(signatures[:, target_col], signatures[:, i])\n",
    "            similarities.append((i, similarity))\n",
    "    similarities.sort(key=lambda x: x[1], reverse=True)\n",
    "    return similarities[:k]\n",
    "\n",
    "# Find nearest neighbors for a user_id of choice\n",
    "neighbors = nearest_neighbors(signatures, 36)\n",
    "print(\"Nearest Neighbors:\", neighbors)"
   ]
  },
  {
   "cell_type": "markdown",
   "id": "1ab55503",
   "metadata": {},
   "source": [
    "# Report on Distance based Recommender System\n",
    "\n",
    "## Preprocessing\n",
    "\n",
    "### Data Transformation\n",
    "- **Input Data**: The raw dataset consists of user interactions, including the data values `user_from_id`, `user_to_id`, `is_like`, and `is_match`.\n",
    "- **Binary Matrix Creation**: The data is transformed into a binary matrix. Rows represent users, and columns represent items. Cells in the matrix indicate the presence (1) or absence (0) of an interaction.\n",
    "\n",
    "### Weighting Scheme (Enhanced Preprocessing)\n",
    "- **Importance Differentiation**: The system differentiates between 'like' and 'match'. 'Match' is given higher importance with a weight of 2, and 'like' is assigned a weight of 1.\n",
    "- **Matrix Representation**: This weighting scheme is incorporated into the binary matrix, enhancing the traditional binary representation to reflect the strength of interactions.\n",
    "\n",
    "## Min-Hashing\n",
    "\n",
    "- **Hash Function Generation**: A set of hash functions is generated. The number of functions (k) is a tunable parameter. After tuning we chose to use here for 4 randomized hash functions. To give a balanced result.\n",
    "- **Signature Matrix Creation**: Each user is hashed using these functions to create a min-hash signature, reducing dimensionality while preserving similarity.\n",
    "\n",
    "## Nearest Neighbor Search\n",
    "\n",
    "- **Jaccard Distance Calculation**: The Jaccard distance between min hash signatures is used to quantify similarity between the users.\n",
    "- **Nearest Neighbors Identification**: For each user the system identifies the nearest neighbors. These are the users with the most similar min-hash signatures. We have chosen to return the top 5 of these nearest neighboars. In the case of Breeze these 5 users can be shown on a certain day. 5 is a feasable and not overwhelming number. Thus keeping the goals and process of the app intact.\n",
    "\n",
    "## Post-processing\n",
    "\n",
    "- **Aggregation for Prediction**: For a new user-item pair, the system estimates the likelihood of interaction (like or match) based on the information aggregated from nearest neighbors.\n",
    "- **Recommendation Criteria**: Recommendations are based on the interactions of nearest neighbors, prioritizing items with higher aggregated scores.\n",
    "- **Result Delivery**: The system outputs a list of the top five recommended users for each user, sorted by the likelihood of a like and match.\n"
   ]
  },
  {
   "cell_type": "code",
   "execution_count": null,
   "id": "16ad1675",
   "metadata": {},
   "outputs": [],
   "source": []
  },
  {
   "cell_type": "code",
   "execution_count": null,
   "id": "c99d231b",
   "metadata": {},
   "outputs": [],
   "source": []
  }
 ],
 "metadata": {
  "kernelspec": {
   "display_name": "Python 3",
   "language": "python",
   "name": "python3"
  },
  "language_info": {
   "codemirror_mode": {
    "name": "ipython",
    "version": 3
   },
   "file_extension": ".py",
   "mimetype": "text/x-python",
   "name": "python",
   "nbconvert_exporter": "python",
   "pygments_lexer": "ipython3",
   "version": "3.8.8"
  }
 },
 "nbformat": 4,
 "nbformat_minor": 5
}
